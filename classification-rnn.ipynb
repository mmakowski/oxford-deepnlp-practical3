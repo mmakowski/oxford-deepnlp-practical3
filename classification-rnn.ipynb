{
 "cells": [
  {
   "cell_type": "code",
   "execution_count": 31,
   "metadata": {
    "collapsed": false
   },
   "outputs": [],
   "source": [
    "import tensorflow as tf\n",
    "import zipfile\n",
    "import lxml.etree\n",
    "import re\n",
    "import urllib.request\n",
    "import os\n",
    "import numpy as np\n",
    "\n",
    "from tqdm import tqdm"
   ]
  },
  {
   "cell_type": "code",
   "execution_count": 2,
   "metadata": {
    "collapsed": false
   },
   "outputs": [],
   "source": [
    "# Download the dataset if it's not already there: this may take a minute as it is 75MB\n",
    "if not os.path.isfile('ted_en-20160408.zip'):\n",
    "    urllib.request.urlretrieve(\"https://wit3.fbk.eu/get.php?path=XML_releases/xml/ted_en-20160408.zip&filename=ted_en-20160408.zip\", filename=\"ted_en-20160408.zip\")"
   ]
  },
  {
   "cell_type": "markdown",
   "metadata": {},
   "source": [
    "## Data Preparation"
   ]
  },
  {
   "cell_type": "code",
   "execution_count": 34,
   "metadata": {
    "collapsed": false
   },
   "outputs": [
    {
     "name": "stderr",
     "output_type": "stream",
     "text": [
      "Processing talks: 100%|██████████| 2085/2085 [00:02<00:00, 861.27talks/s]"
     ]
    },
    {
     "name": "stdout",
     "output_type": "stream",
     "text": [
      "['here', 'are', 'two', 'reasons', 'companies', 'fail', 'they', 'only', 'do', 'more', 'of', 'the', 'same', 'or', 'they', 'only', 'do', 'what', 's', 'new', 'to', 'me', 'the', 'real', 'real', 'solution', 'to', 'quality', 'growth', 'is']\n",
      "[ 1.  0.  0.  0.  0.  0.  0.  0.]\n"
     ]
    },
    {
     "name": "stderr",
     "output_type": "stream",
     "text": [
      "\n"
     ]
    }
   ],
   "source": [
    "def parse(doc):\n",
    "    return [(f.xpath(\"./content/text()\")[0], f.xpath(\"./head/keywords/text()\")[0]) for f in doc.xpath(\"//file\")]\n",
    "\n",
    "def label(keywords):\n",
    "    kwset = set([kw.strip().lower() for kw in keywords.split(\",\")])\n",
    "    lbl = np.zeros(8)\n",
    "    lbl[4 * (\"technology\" in kwset) + 2 * (\"entertainment\" in kwset) + 1 * (\"design\" in kwset)] = 1\n",
    "    return lbl\n",
    "\n",
    "def tokenise(text):\n",
    "    input_text_noparens = re.sub(r'\\([^)]*\\)', '', text)\n",
    "    sentence_strings = []\n",
    "    for line in input_text_noparens.split('\\n'):\n",
    "        m = re.match(r'^(?:(?P<precolon>[^:]{,20}):)?(?P<postcolon>.*)$', line)\n",
    "        sentence_strings.extend(sent for sent in m.groupdict()['postcolon'].split('.') if sent)\n",
    "    return re.sub(r\"[^a-z0-9]+\", \" \", ' '.join(sentence_strings).lower()).split()\n",
    "\n",
    "with zipfile.ZipFile('ted_en-20160408.zip', 'r') as z:\n",
    "    doc = lxml.etree.parse(z.open('ted_en-20160408.xml', 'r'))\n",
    "\n",
    "examples = tqdm(parse(doc), desc='Processing talks', unit='talks')\n",
    "all_data_raw = [(tokenise(content), label(keywords)) for (content, keywords) in examples]\n",
    "all_content = [content for content, _ in all_data_raw]\n",
    "all_labels = [label for _, label in all_data_raw]\n",
    "\n",
    "del doc\n",
    "\n",
    "print(all_content[0][:30])\n",
    "print(all_labels[0])"
   ]
  },
  {
   "cell_type": "markdown",
   "metadata": {},
   "source": [
    "Split into training and test sets:"
   ]
  },
  {
   "cell_type": "code",
   "execution_count": 44,
   "metadata": {
    "collapsed": false
   },
   "outputs": [
    {
     "name": "stdout",
     "output_type": "stream",
     "text": [
      "['you', 'know', 'when', 'chris', 'first', 'approached', 'me', 'to', 'speak', 'at', 'ted', 'i', 'said', 'no', 'because', 'i', 'felt', 'like', 'i', 'wasn', 't', 'going', 'to', 'be', 'able', 'to', 'make', 'that', 'personal', 'connection']\n",
      "[ 0.  0.  1.  0.  0.  0.  0.  0.]\n"
     ]
    }
   ],
   "source": [
    "from sklearn.model_selection import train_test_split\n",
    "\n",
    "train_content, test_content, train_labels, test_labels = train_test_split(all_content, all_labels, test_size=0.05, random_state=1234)\n",
    "print(train_content[0][:30])\n",
    "print(train_labels[0])"
   ]
  },
  {
   "cell_type": "markdown",
   "metadata": {},
   "source": [
    "Convert words to numbers:"
   ]
  },
  {
   "cell_type": "code",
   "execution_count": 45,
   "metadata": {
    "collapsed": false
   },
   "outputs": [
    {
     "name": "stderr",
     "output_type": "stream",
     "text": [
      "Counting words: 100%|██████████| 1980/1980 [00:00<00:00, 2924.41examples/s]\n"
     ]
    },
    {
     "name": "stdout",
     "output_type": "stream",
     "text": [
      "[('the', 197204), ('and', 142144), ('to', 118739), ('of', 108878), ('a', 99972), ('that', 90277), ('i', 79515), ('in', 73985), ('it', 70881), ('you', 67610), ('we', 63922), ('is', 59930), ('s', 54204), ('this', 46739), ('so', 35118), ('they', 31490), ('was', 29429), ('for', 28159), ('are', 26582), ('have', 25886)]\n",
      "2006\n"
     ]
    }
   ],
   "source": [
    "from collections import Counter\n",
    "word_counts = Counter()\n",
    "\n",
    "contents_pbar = tqdm(train_content, desc='Counting words', unit='examples')\n",
    "\n",
    "for content in contents_pbar:\n",
    "    word_counts.update(content)\n",
    "\n",
    "print(word_counts.most_common(20))\n",
    "\n",
    "# remove some of the least frequent words to ensure we have some unknown words in training and test sets\n",
    "vocabulary = [word for (word, cnt) in word_counts.most_common()][:-454]\n",
    "word_index = dict(zip(vocabulary, range(len(vocabulary))))\n",
    "\n",
    "print(word_index['awesome'])"
   ]
  },
  {
   "cell_type": "markdown",
   "metadata": {},
   "source": [
    "Convert to one-hot vectors. This will be done on the fly, as the vectors are large."
   ]
  },
  {
   "cell_type": "code",
   "execution_count": 46,
   "metadata": {
    "collapsed": false
   },
   "outputs": [
    {
     "name": "stdout",
     "output_type": "stream",
     "text": [
      "word one-hot vector size:  52876\n"
     ]
    }
   ],
   "source": [
    "word_ohv_size = len(vocabulary) + 1 # +1 for unknown words\n",
    "print(\"word one-hot vector size: \", word_ohv_size)\n",
    "\n",
    "def word2ohv(word):\n",
    "    result = np.zeros(word_ohv_size)\n",
    "    result[word_index.get(word, word_ohv_size - 1)] = 1\n",
    "    return result"
   ]
  },
  {
   "cell_type": "markdown",
   "metadata": {},
   "source": [
    "Carve out validation set from the training set:"
   ]
  },
  {
   "cell_type": "code",
   "execution_count": 47,
   "metadata": {
    "collapsed": false
   },
   "outputs": [
    {
     "name": "stdout",
     "output_type": "stream",
     "text": [
      "['on', 'mondays', 'and', 'thursdays', 'i', 'learn', 'how', 'to', 'die', 'i', 'call', 'them', 'my', 'terminal', 'days', 'my', 'wife', 'fernanda', 'doesn', 't', 'like', 'the', 'term', 'but', 'a', 'lot', 'of', 'people', 'in', 'my']\n",
      "[ 1.  0.  0.  0.  0.  0.  0.  0.]\n"
     ]
    }
   ],
   "source": [
    "train_content, valid_content, train_labels, valid_labels = train_test_split(train_content, train_labels, test_size=0.5, random_state=1234)\n",
    "print(train_content[0][:30])\n",
    "print(train_labels[0])"
   ]
  },
  {
   "cell_type": "markdown",
   "metadata": {},
   "source": [
    "## Model"
   ]
  },
  {
   "cell_type": "markdown",
   "metadata": {},
   "source": [
    "Configurations:"
   ]
  },
  {
   "cell_type": "code",
   "execution_count": 48,
   "metadata": {
    "collapsed": true
   },
   "outputs": [],
   "source": [
    "class TinyConfig(object):\n",
    "    # hyperparams\n",
    "    learning_rate = 0.01\n",
    "    training_epochs = 5\n",
    "    batch_size = 50\n",
    "    num_steps = 10\n",
    "    # network size\n",
    "    embedding_size = 32\n",
    "    hidden_size = 10"
   ]
  },
  {
   "cell_type": "code",
   "execution_count": 49,
   "metadata": {
    "collapsed": true
   },
   "outputs": [],
   "source": [
    "conf = TinyConfig()"
   ]
  },
  {
   "cell_type": "markdown",
   "metadata": {},
   "source": [
    "Parameters which are fixed for the task:"
   ]
  },
  {
   "cell_type": "code",
   "execution_count": 53,
   "metadata": {
    "collapsed": true
   },
   "outputs": [],
   "source": [
    "num_classes = 8"
   ]
  },
  {
   "cell_type": "markdown",
   "metadata": {},
   "source": [
    "Network state:"
   ]
  },
  {
   "cell_type": "code",
   "execution_count": 54,
   "metadata": {
    "collapsed": false
   },
   "outputs": [],
   "source": [
    "def learnable_params():\n",
    "    weights = {\n",
    "        'embed': tf.Variable(tf.truncated_normal([word_ohv_size, conf.embedding_size])),\n",
    "        'softmax': tf.Variable(tf.truncated_normal([conf.hidden_size, num_classes]))\n",
    "    }\n",
    "    biases = {\n",
    "        'embed': tf.Variable(tf.zeros([conf.embedding_size])),\n",
    "        'softmax': tf.Variable(tf.zeros([num_classes]))\n",
    "    }\n",
    "    lstm_cells = {\n",
    "        'rnn1':  tf.contrib.rnn.BasicLSTMCell(hidden_size)\n",
    "    }\n",
    "    return weights, biases, lstm_cells"
   ]
  },
  {
   "cell_type": "markdown",
   "metadata": {},
   "source": [
    "Model:"
   ]
  },
  {
   "cell_type": "code",
   "execution_count": 62,
   "metadata": {
    "collapsed": false
   },
   "outputs": [],
   "source": [
    "# def model(x, seqlen, weights, biases):\n",
    "#     # TODO: include everything (state and optimiser)\n",
    "#     # TODO: TBPTT with steps parameter\n",
    "    \n",
    "#     # transform input of shape batch_size x max_length x embedding_size to a \n",
    "#     # sequence of max_length tensors of shape batch_size x embedding_size\n",
    "#     x = tf.transpose(x, [1, 0, 2])\n",
    "#     x = tf.reshape(x, [-1, word_ohv_size])\n",
    "#     x = tf.split(0, n_steps, x) # TODO: split by n_steps?\n",
    "    \n",
    "#     lstm_cell = tf.contrib.rnn.BasicLSTMCell(hidden_size)\n",
    "    \n",
    "#     outputs, states = tf.nn.rnn(lstm_cell, x, dtype=tf.float32, sequence_length=seqlen)\n",
    "    \n",
    "#     # TODO: the below takes only the last (seqlen) output; \n",
    "#     # according to README we want to sum all outputs up until\n",
    "#     # seqlen.\n",
    "    \n",
    "#     # need to extract the n-th output for each example, \n",
    "#     # where n is the sequence length for that example\n",
    "#     outputs = tf.pack(outputs)\n",
    "#     outputs = tf.transpose(outputs, [1, 0, 2])\n",
    "#     batch_size = tf.shape(outputs)[0]\n",
    "#     index = tf.range(0, batch_size) * max_length + (seqlen - 1)\n",
    "#     outputs = tf.gather(tf.reshape(outputs, [-1, hidden_size]), index)\n",
    "\n",
    "#     return tf.matmul(outputs, weights['rnn1']) + biases['rnn1']"
   ]
  },
  {
   "cell_type": "markdown",
   "metadata": {},
   "source": [
    "Train:"
   ]
  },
  {
   "cell_type": "code",
   "execution_count": 64,
   "metadata": {
    "collapsed": false
   },
   "outputs": [
    {
     "name": "stderr",
     "output_type": "stream",
     "text": [
      "/home/mmakowski/.local/lib/python3.5/site-packages/tensorflow/python/ops/gradients_impl.py:91: UserWarning: Converting sparse IndexedSlices to a dense Tensor of unknown shape. This may consume a large amount of memory.\n",
      "  \"Converting sparse IndexedSlices to a dense Tensor of unknown shape. \"\n"
     ]
    }
   ],
   "source": [
    "# pred = model(text, textlen, weights, biases)\n",
    "\n",
    "# cost = tf.reduce_mean(tf.nn.softmax_cross_entropy_with_logits(pred, label))\n",
    "# optimizer = tf.train.GradientDescentOptimizer(learning_rate).minimize(cost)\n",
    "\n",
    "# correct_pred = tf.equal(tf.argmax(pred, 1), tf.argmax(label, 1))\n",
    "# accuracy = tf.reduce_mean(tf.cast(correct_pred, tf.float32))\n",
    "\n",
    "# losses = {'train': [], 'validation': []}\n",
    "\n",
    "# def inputs(data_batch):\n",
    "#     text_matrix = np.array([text for (text, _, _) in data_batch])\n",
    "#     length_matrix = np.array([length for (_, length, _) in data_batch])\n",
    "#     label_matrix = np.array([label for (_, _, label) in data_batch])\n",
    "#     return text_matrix, length_matrix, label_matrix\n",
    "\n",
    "# val_text, val_length, val_label = inputs(validation)"
   ]
  },
  {
   "cell_type": "code",
   "execution_count": 55,
   "metadata": {
    "collapsed": true
   },
   "outputs": [],
   "source": [
    "class TrainingRig(object):\n",
    "    def __init__(self, weights, biases, rnn_cells):\n",
    "        self.reset_state()\n",
    "\n",
    "        self.frame_inputs = tf.placeholder(tf.float32, [None, conf.num_steps, word_ohv_size])\n",
    "        self.frame_lengths = tf.placeholder(tf.int32, [None])\n",
    "        self.frame_labels = tf.placeholder(tf.float32, [None, num_classes])\n",
    "\n",
    "        input = tf.transpose(self.frame_inputs, [1, 0, 2])\n",
    "        input = tf.reshape(input, [-1, word_ohv_size])\n",
    "        input = tf.split(0, num_steps, input)\n",
    "\n",
    "        embedded = tf.matmul(input, weights['embed']) + biases['embed']\n",
    "       \n",
    "        outputs, _ = tf.contrib.rnn.static_state_saving_rnn(\n",
    "            lstm_cell, embedded,\n",
    "            state_saver=self, \n",
    "            state_name='rnn1',\n",
    "            sequence_length=seqlen)\n",
    "        \n",
    "        # need to extract the n-th output for each example, \n",
    "        # where n is the sequence length for that example\n",
    "        outputs = tf.pack(outputs)\n",
    "        outputs = tf.transpose(outputs, [1, 0, 2])\n",
    "        batch_size = tf.shape(outputs)[0]\n",
    "        index = tf.range(0, batch_size) * conf.num_steps + (self.frame_lengths - 1)\n",
    "        final_outputs  = tf.gather(tf.reshape(outputs, [-1, hidden_size]), index)\n",
    "\n",
    "        logits = tf.matmul(outputs, weights['softmax']) + biases['softmax']\n",
    "        cost = tf.reduce_mean(tf.nn.softmax_corss_entropy_with_logits(logits, label))\n",
    "        self.optimizer = tf.train.AdamOptimizer(learning_rate).minimize(cost)\n",
    "\n",
    "    def reset_state(self):\n",
    "        self._state = {'rnn1': tf.zeros(conf.hidden_size)}\n",
    "        \n",
    "    def save_state(name, state):\n",
    "        self._state[name] = state\n",
    "        \n",
    "    def state(name):\n",
    "        self._state[name]"
   ]
  },
  {
   "cell_type": "code",
   "execution_count": 56,
   "metadata": {
    "collapsed": true
   },
   "outputs": [],
   "source": [
    "class EvaluationRig(object):\n",
    "    def __init__(self, weights, biases, rnn_cells):\n",
    "        self.weights = weights\n",
    "        self.biasees = biases\n",
    "        self.rnn_cells = rnn_cells\n",
    "        # TODO: input size should be max size of input sequence, not num_steps\n",
    "        self.eval_inputs = tf.placeholder(tf.float32, [None, conf.num_steps, word_ohv_size])\n",
    "        self.eval_lengths = tf.placeholder(tf.int32, [None])\n"
   ]
  },
  {
   "cell_type": "code",
   "execution_count": null,
   "metadata": {
    "collapsed": true
   },
   "outputs": [],
   "source": [
    "def inputs(data_batch):\n",
    "    text_matrix = np.array([text for (text, _, _) in data_batch])\n",
    "    length_matrix = np.array([length for (_, length, _) in data_batch])\n",
    "    label_matrix = np.array([label for (_, _, label) in data_batch])\n",
    "    return text_matrix, length_matrix, label_matrix"
   ]
  },
  {
   "cell_type": "code",
   "execution_count": null,
   "metadata": {
    "collapsed": true
   },
   "outputs": [],
   "source": [
    "def train(sess, tmodel):\n",
    "    for epoch in range(training_epochs):\n",
    "        train_loss = 0.\n",
    "        validation_loss = 0.\n",
    "        validation_accuracy = 0.\n",
    "        total_batch = int(np.ceil(len(training) / batch_size))\n",
    "\n",
    "        for i in range(total_batch):\n",
    "            batch = training[i * batch_size : (i+1) * batch_size]\n",
    "            batch_text, batch_length, batch_label = inputs(batch)\n",
    "            _, train_loss = sess.run([optimizer, cost], feed_dict = { text: batch_text, textlen: batch_length, label: batch_label})\n",
    "#             vaidation_accuracy, validation_loss = sess.run([accuracy, cost], feed_dict={text: val_text, textlen: val_length, label: val_label})\n",
    "#             losses['validation'].append(validation_loss)\n",
    "            losses['train'].append(train_loss)\n",
    "        print(\"Epoch:\", '%04d' % (epoch+1), \"validation accuracy:\", \"{:.9f}\".format(validation_accuracy))"
   ]
  },
  {
   "cell_type": "code",
   "execution_count": 65,
   "metadata": {
    "collapsed": false
   },
   "outputs": [
    {
     "name": "stdout",
     "output_type": "stream",
     "text": [
      "Epoch: 0001 validation accuracy: 0.000000000\n",
      "Epoch: 0002 validation accuracy: 0.000000000\n",
      "Epoch: 0003 validation accuracy: 0.000000000\n",
      "Epoch: 0004 validation accuracy: 0.000000000\n",
      "Epoch: 0005 validation accuracy: 0.000000000\n",
      "Epoch: 0006 validation accuracy: 0.000000000\n",
      "Epoch: 0007 validation accuracy: 0.000000000\n",
      "Epoch: 0008 validation accuracy: 0.000000000\n",
      "Epoch: 0009 validation accuracy: 0.000000000\n",
      "Epoch: 0010 validation accuracy: 0.000000000\n",
      "Epoch: 0011 validation accuracy: 0.000000000\n",
      "Epoch: 0012 validation accuracy: 0.000000000\n",
      "Epoch: 0013 validation accuracy: 0.000000000\n",
      "Epoch: 0014 validation accuracy: 0.000000000\n",
      "Epoch: 0015 validation accuracy: 0.000000000\n"
     ]
    }
   ],
   "source": [
    "with tf.Graph().as_default():\n",
    "    weights, biases, rnn_cells = learnable_params()\n",
    "    training_rig = TrainingRig(weights, biases, rnn_cells)\n",
    "    eval_rig = EvaluationRig(weights, biases, rnn_cells)\n",
    "    with tf.Session() as sess:\n",
    "        sess.run(tf.global_variables_initializer())\n",
    "        train(sess, training_rig, eval_rig)\n"
   ]
  },
  {
   "cell_type": "code",
   "execution_count": 66,
   "metadata": {
    "collapsed": false
   },
   "outputs": [
    {
     "data": {
      "text/plain": [
       "<matplotlib.legend.Legend at 0x7f362e5bbba8>"
      ]
     },
     "execution_count": 66,
     "metadata": {},
     "output_type": "execute_result"
    },
    {
     "data": {
      "image/png": "[encoded data removed]",
      "text/plain": [
       "<matplotlib.figure.Figure at 0x7f36ad01ae80>"
      ]
     },
     "metadata": {},
     "output_type": "display_data"
    }
   ],
   "source": [
    "import matplotlib.pyplot as plt\n",
    "%matplotlib inline\n",
    "\n",
    "plt.plot(losses['train'], label='Training loss')\n",
    "plt.plot(losses['validation'], label='Validation loss')\n",
    "plt.legend()"
   ]
  },
  {
   "cell_type": "code",
   "execution_count": null,
   "metadata": {
    "collapsed": true
   },
   "outputs": [],
   "source": []
  }
 ],
 "metadata": {
  "kernelspec": {
   "display_name": "Python 3",
   "language": "python",
   "name": "python3"
  },
  "language_info": {
   "codemirror_mode": {
    "name": "ipython",
    "version": 3
   },
   "file_extension": ".py",
   "mimetype": "text/x-python",
   "name": "python",
   "nbconvert_exporter": "python",
   "pygments_lexer": "ipython3",
   "version": "3.5.2"
  }
 },
 "nbformat": 4,
 "nbformat_minor": 2
}
