{
 "cells": [
  {
   "cell_type": "code",
   "execution_count": 1,
   "metadata": {
    "collapsed": false
   },
   "outputs": [],
   "source": [
    "import tensorflow as tf\n",
    "import zipfile\n",
    "import lxml.etree\n",
    "import re\n",
    "import urllib.request\n",
    "import os\n",
    "import numpy as np\n"
   ]
  },
  {
   "cell_type": "code",
   "execution_count": 2,
   "metadata": {
    "collapsed": false
   },
   "outputs": [],
   "source": [
    "# Download the dataset if it's not already there: this may take a minute as it is 75MB\n",
    "if not os.path.isfile('ted_en-20160408.zip'):\n",
    "    urllib.request.urlretrieve(\"https://wit3.fbk.eu/get.php?path=XML_releases/xml/ted_en-20160408.zip&filename=ted_en-20160408.zip\", filename=\"ted_en-20160408.zip\")"
   ]
  },
  {
   "cell_type": "markdown",
   "metadata": {},
   "source": [
    "## Data Preparation"
   ]
  },
  {
   "cell_type": "code",
   "execution_count": 5,
   "metadata": {
    "collapsed": false
   },
   "outputs": [
    {
     "name": "stdout",
     "output_type": "stream",
     "text": [
      "[['here', 'are', 'two', 'reasons', 'companies', 'fail', 'they', 'only', 'do', 'more', 'of', 'the', 'same', 'or', 'they', 'only', 'do', 'what', 's', 'new'], ['to', 'me', 'the', 'real', 'real', 'solution', 'to', 'quality', 'growth', 'is', 'figuring', 'out', 'the', 'balance', 'between', 'two', 'activities', 'exploration', 'and', 'exploitation'], ['both', 'are', 'necessary', 'but', 'it', 'can', 'be', 'too', 'much', 'of', 'a', 'good', 'thing'], ['consider', 'facit'], ['i', 'm', 'actually', 'old', 'enough', 'to', 'remember', 'them']]\n"
     ]
    }
   ],
   "source": [
    "def parse(doc):\n",
    "    return [(f.xpath(\"./content/text()\")[0], f.xpath(\"./head/keywords/text()\")[0]) for f in doc.xpath(\"//file\")]\n",
    "\n",
    "def label(keywords):\n",
    "    kwset = set([kw.strip().lower() for kw in keywords.split(\",\")])\n",
    "    lbl = np.zeros(8)\n",
    "    lbl[4 * (\"technology\" in kwset) + 2 * (\"entertainment\" in kwset) + 1 * (\"design\" in kwset)] = 1\n",
    "    return lbl\n",
    "\n",
    "def tokenised_sentences(text):\n",
    "    input_text_noparens = re.sub(r'\\([^)]*\\)', '', text)\n",
    "    sentence_strings = []\n",
    "    for line in input_text_noparens.split('\\n'):\n",
    "        m = re.match(r'^(?:(?P<precolon>[^:]{,20}):)?(?P<postcolon>.*)$', line)\n",
    "        sentence_strings.extend(sent for sent in m.groupdict()['postcolon'].split('.') if sent)\n",
    "    return [re.sub(r\"[^a-z0-9]+\", \" \", sentence.lower()).split() for sentence in sentence_strings]\n",
    "\n",
    "with zipfile.ZipFile('ted_en-20160408.zip', 'r') as z:\n",
    "    doc = lxml.etree.parse(z.open('ted_en-20160408.xml', 'r'))\n",
    "\n",
    "all_data_raw = [(tokenised_sentences(content), label(keywords)) for (content, keywords) in parse(doc)]\n",
    "del doc\n",
    "\n",
    "print(all_data_raw[0][0][:5])"
   ]
  },
  {
   "cell_type": "markdown",
   "metadata": {},
   "source": [
    "## Word Embeddings"
   ]
  },
  {
   "cell_type": "code",
   "execution_count": 6,
   "metadata": {
    "collapsed": true
   },
   "outputs": [],
   "source": [
    "embedding_size = 50"
   ]
  },
  {
   "cell_type": "code",
   "execution_count": 7,
   "metadata": {
    "collapsed": false,
    "scrolled": true
   },
   "outputs": [
    {
     "data": {
      "text/plain": [
       "[('machine', 0.7851342558860779),\n",
       " ('robot', 0.7790449857711792),\n",
       " ('software', 0.7522289156913757),\n",
       " ('simulation', 0.7189420461654663),\n",
       " ('video', 0.7187880277633667),\n",
       " ('device', 0.714058518409729),\n",
       " ('chip', 0.7101123929023743),\n",
       " ('3d', 0.7047430276870728),\n",
       " ('keyboard', 0.6985288858413696),\n",
       " ('animation', 0.6957977414131165)]"
      ]
     },
     "execution_count": 7,
     "metadata": {},
     "output_type": "execute_result"
    }
   ],
   "source": [
    "from gensim.models import Word2Vec\n",
    "\n",
    "all_sentences = [sentence for content, _ in all_data_raw for sentence in content]\n",
    "\n",
    "word2vec = Word2Vec(all_sentences, size=embedding_size, window=5, min_count=5, workers=12)\n",
    "\n",
    "word2vec.most_similar(\"computer\")"
   ]
  },
  {
   "cell_type": "markdown",
   "metadata": {},
   "source": [
    "Split into training/validation/test sets:"
   ]
  },
  {
   "cell_type": "code",
   "execution_count": 10,
   "metadata": {
    "collapsed": true
   },
   "outputs": [],
   "source": [
    "training_sentences = all_data_raw[:1585]\n",
    "validation = all_data_raw[1585:1585+250]\n",
    "test = all_data_raw[1585+250:]"
   ]
  },
  {
   "cell_type": "markdown",
   "metadata": {},
   "source": [
    "## Model\n",
    "\n",
    "Need to pad all talks to maximum word count, as TF requires consistent length of training inputs:"
   ]
  },
  {
   "cell_type": "code",
   "execution_count": 18,
   "metadata": {
    "collapsed": false
   },
   "outputs": [
    {
     "name": "stdout",
     "output_type": "stream",
     "text": [
      "['here', 'are', 'two', 'reasons', 'companies', 'fail', 'they', 'only', 'do', 'more', 'of', 'the', 'same', 'or', 'they', 'only', 'do', 'what', 's', 'new', 'to', 'me', 'the', 'real', 'real', 'solution', 'to', 'quality', 'growth', 'is', 'figuring', 'out', 'the', 'balance', 'between', 'two', 'activities', 'exploration', 'and', 'exploitation']\n"
     ]
    }
   ],
   "source": [
    "training_words = [([word for sentence in sentences for word in sentence], label) \n",
    "                  for sentences, label in training_sentences]\n",
    "print(training_words[0][0][:40])"
   ]
  },
  {
   "cell_type": "code",
   "execution_count": 29,
   "metadata": {
    "collapsed": false
   },
   "outputs": [
    {
     "name": "stdout",
     "output_type": "stream",
     "text": [
      "max length: 5387\n",
      "[array([ 1.7053777 ,  0.44375089,  2.40147877,  1.56469464, -0.5336141 ,\n",
      "       -0.68148601,  0.82912147,  2.25279331, -0.95593244,  1.33701634,\n",
      "        0.76937181, -3.19962335,  1.60973144,  0.19883487,  1.22950065,\n",
      "       -0.51542664,  0.34617937, -0.08367246, -0.81200767,  1.57739055,\n",
      "        0.71759522,  1.76497483,  1.08457708,  2.28248453,  0.81796366,\n",
      "       -0.9854821 , -1.71136069,  1.10090268,  1.52877855, -1.37763691,\n",
      "       -3.15039611,  0.15048994,  0.86681312, -1.33970571,  0.74007791,\n",
      "       -0.23219641, -0.67506731, -2.35610747, -2.12424803, -1.2421999 ,\n",
      "       -1.05194223,  1.17314637,  0.26060024,  1.90340781,  1.84374464,\n",
      "       -0.12940843,  0.61424488, -1.1746037 , -0.72992647, -0.30587038], dtype=float32)]\n",
      "[array([ 0.,  0.,  0.,  0.,  0.,  0.,  0.,  0.,  0.,  0.,  0.,  0.,  0.,\n",
      "        0.,  0.,  0.,  0.,  0.,  0.,  0.,  0.,  0.,  0.,  0.,  0.,  0.,\n",
      "        0.,  0.,  0.,  0.,  0.,  0.,  0.,  0.,  0.,  0.,  0.,  0.,  0.,\n",
      "        0.,  0.,  0.,  0.,  0.,  0.,  0.,  0.,  0.,  0.,  0.])]\n"
     ]
    }
   ],
   "source": [
    "max_length = max([len(words) for words, _ in training_words])\n",
    "print(\"max length: %d\" % max_length)\n",
    "pad_word = np.array([.0] * embedding_size)\n",
    "\n",
    "# wrapper on word2vec model that handles unknown words\n",
    "def w2v(word):\n",
    "    return word2vec[word] if word in word2vec else pad_word\n",
    "\n",
    "training_vectors = [([w2v(word) for word in words] + ([pad_word] * (max_length - len(words))),\n",
    "                     len(words),\n",
    "                     label) for words, label in training_words]\n",
    "\n",
    "print(training_vectors[0][0][:1])\n",
    "print(training_vectors[0][0][-1:])"
   ]
  },
  {
   "cell_type": "markdown",
   "metadata": {},
   "source": [
    "Metaparameters:"
   ]
  },
  {
   "cell_type": "code",
   "execution_count": 51,
   "metadata": {
    "collapsed": true
   },
   "outputs": [],
   "source": [
    "learning_rate = 0.001\n",
    "training_epochs = 15\n",
    "batch_size = 50"
   ]
  },
  {
   "cell_type": "markdown",
   "metadata": {},
   "source": [
    "Network parameters:"
   ]
  },
  {
   "cell_type": "code",
   "execution_count": 52,
   "metadata": {
    "collapsed": true
   },
   "outputs": [],
   "source": [
    "embedding_size = 50\n",
    "hidden_size = 10"
   ]
  },
  {
   "cell_type": "markdown",
   "metadata": {},
   "source": [
    "We separate embeddings out, even though there are just weights, the same as in the subsequent layers:"
   ]
  },
  {
   "cell_type": "code",
   "execution_count": 53,
   "metadata": {
    "collapsed": true
   },
   "outputs": [],
   "source": [
    "w2v = tf.Variable(tf.random_normal([zhv_size, embedding_size]))"
   ]
  },
  {
   "cell_type": "markdown",
   "metadata": {},
   "source": [
    "Model:"
   ]
  },
  {
   "cell_type": "code",
   "execution_count": 54,
   "metadata": {
    "collapsed": false
   },
   "outputs": [],
   "source": [
    "def embedding(text, w2v):\n",
    "    return tf.matmul(text, w2v)\n",
    "\n",
    "def model(text, weights, biases, w2v):\n",
    "    x = embedding(text, w2v)\n",
    "    h = tf.tanh(tf.add(tf.matmul(x, weights['W']), biases['b']))\n",
    "    u = tf.add(tf.matmul(h, weights['V']), biases['c'])\n",
    "    return u"
   ]
  },
  {
   "cell_type": "markdown",
   "metadata": {},
   "source": [
    "Network state:"
   ]
  },
  {
   "cell_type": "code",
   "execution_count": 55,
   "metadata": {
    "collapsed": true
   },
   "outputs": [],
   "source": [
    "# parameters that are fixed for the task:\n",
    "n_classes = 8\n",
    "\n",
    "text = tf.placeholder(tf.float32, [None, zhv_size])\n",
    "label = tf.placeholder(tf.float32, [None, n_classes])\n",
    "\n",
    "weights = {\n",
    "    'W': tf.Variable(tf.random_normal([embedding_size, hidden_size])),\n",
    "    'V': tf.Variable(tf.random_normal([hidden_size, n_classes]))\n",
    "}\n",
    "biases = {\n",
    "    'b': tf.Variable(tf.random_normal([hidden_size])),\n",
    "    'c': tf.Variable(tf.random_normal([n_classes])),\n",
    "}"
   ]
  },
  {
   "cell_type": "markdown",
   "metadata": {},
   "source": [
    "Train:"
   ]
  },
  {
   "cell_type": "code",
   "execution_count": 61,
   "metadata": {
    "collapsed": false
   },
   "outputs": [
    {
     "name": "stdout",
     "output_type": "stream",
     "text": [
      "Epoch:  0001 cost= 2.130254768\n",
      "Epoch:  0002 cost= 1.490307493\n",
      "Epoch:  0003 cost= 1.352485389\n",
      "Epoch:  0004 cost= 1.279339911\n",
      "Epoch:  0005 cost= 1.216089798\n",
      "Epoch:  0006 cost= 1.162066670\n",
      "Epoch:  0007 cost= 1.113673551\n",
      "Epoch:  0008 cost= 1.069420913\n",
      "Epoch:  0009 cost= 1.028165305\n",
      "Epoch:  0010 cost= 0.989132142\n",
      "Epoch:  0011 cost= 0.951763185\n",
      "Epoch:  0012 cost= 0.915668884\n",
      "Epoch:  0013 cost= 0.880585162\n",
      "Epoch:  0014 cost= 0.846335384\n",
      "Epoch:  0015 cost= 0.812796473\n",
      "test set accuracy:  0.329218\n"
     ]
    }
   ],
   "source": [
    "pred = model(text, weights, biases, w2v)\n",
    "\n",
    "cost = tf.reduce_mean(tf.nn.softmax_cross_entropy_with_logits(logits=pred, labels=label))\n",
    "optimizer = tf.train.AdamOptimizer(learning_rate).minimize(cost)\n",
    "\n",
    "init = tf.global_variables_initializer()\n",
    "\n",
    "with tf.Session() as sess:\n",
    "    sess.run(init)\n",
    "    \n",
    "    for epoch in range(training_epochs):\n",
    "        avg_cost = 0.\n",
    "        total_batch = int(np.ceil(len(training) / batch_size))\n",
    "        for i in range(total_batch):\n",
    "            # TODO: sample the batch\n",
    "            batch = training[i * batch_size : (i+1) * batch_size]\n",
    "            batch_text = np.array([text for (text, label) in batch])\n",
    "            batch_label = np.array([label for (text, label) in batch])\n",
    "            _, c = sess.run([optimizer, cost], feed_dict = { text: batch_text, label: batch_label})\n",
    "            avg_cost += c / total_batch\n",
    "        print(\"Epoch: \", '%04d' % (epoch+1), \"cost=\", \"{:.9f}\".format(avg_cost))\n",
    "        \n",
    "    correct_pred = tf.equal(tf.argmax(pred, 1), tf.argmax(label, 1))\n",
    "    accuracy = tf.reduce_mean(tf.cast(correct_pred, \"float\"))\n",
    "    test_text = np.array([text for (text, label) in test])\n",
    "    test_label = np.array([label for (text, label) in test])\n",
    "    print(\"test set accuracy: \", accuracy.eval({text: test_text, label: test_label}))"
   ]
  },
  {
   "cell_type": "code",
   "execution_count": null,
   "metadata": {
    "collapsed": true
   },
   "outputs": [],
   "source": []
  }
 ],
 "metadata": {
  "kernelspec": {
   "display_name": "Python 3",
   "language": "python",
   "name": "python3"
  },
  "language_info": {
   "codemirror_mode": {
    "name": "ipython",
    "version": 3
   },
   "file_extension": ".py",
   "mimetype": "text/x-python",
   "name": "python",
   "nbconvert_exporter": "python",
   "pygments_lexer": "ipython3",
   "version": "3.5.2"
  }
 },
 "nbformat": 4,
 "nbformat_minor": 2
}
